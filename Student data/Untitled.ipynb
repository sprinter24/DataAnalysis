{
 "cells": [
  {
   "cell_type": "code",
   "execution_count": 1,
   "id": "2a6607b0",
   "metadata": {},
   "outputs": [],
   "source": [
    "import numpy as np\n",
    "import scipy as sp\n",
    "import matplotlib.pyplot as plt\n",
    "import seaborn as sns\n",
    "import pandas as pd\n",
    "from scipy import stats\n",
    "import statsmodels.api as sm\n",
    "import scikit_posthocs as spp\n",
    "import statistics as st"
   ]
  },
  {
   "cell_type": "code",
   "execution_count": 2,
   "id": "f7738bb0",
   "metadata": {
    "scrolled": true
   },
   "outputs": [
    {
     "data": {
      "text/html": [
       "<div>\n",
       "<style scoped>\n",
       "    .dataframe tbody tr th:only-of-type {\n",
       "        vertical-align: middle;\n",
       "    }\n",
       "\n",
       "    .dataframe tbody tr th {\n",
       "        vertical-align: top;\n",
       "    }\n",
       "\n",
       "    .dataframe thead th {\n",
       "        text-align: right;\n",
       "    }\n",
       "</style>\n",
       "<table border=\"1\" class=\"dataframe\">\n",
       "  <thead>\n",
       "    <tr style=\"text-align: right;\">\n",
       "      <th></th>\n",
       "      <th>ФИО</th>\n",
       "      <th>Факультет</th>\n",
       "      <th>ВП</th>\n",
       "      <th>Курс</th>\n",
       "      <th>1</th>\n",
       "      <th>2</th>\n",
       "      <th>3</th>\n",
       "      <th>4</th>\n",
       "      <th>5</th>\n",
       "      <th>6</th>\n",
       "      <th>7</th>\n",
       "      <th>8</th>\n",
       "      <th>9</th>\n",
       "      <th>10</th>\n",
       "      <th>11</th>\n",
       "      <th>Посещения</th>\n",
       "      <th>П1</th>\n",
       "      <th>П2</th>\n",
       "      <th>П5</th>\n",
       "      <th>П10</th>\n",
       "    </tr>\n",
       "  </thead>\n",
       "  <tbody>\n",
       "    <tr>\n",
       "      <th>0</th>\n",
       "      <td>Абдул Гани Надим Ахмадович</td>\n",
       "      <td>вмик</td>\n",
       "      <td>магистр</td>\n",
       "      <td>1.0</td>\n",
       "      <td>1.0</td>\n",
       "      <td>1.0</td>\n",
       "      <td>1.0</td>\n",
       "      <td>1.0</td>\n",
       "      <td>1.0</td>\n",
       "      <td>0.0</td>\n",
       "      <td>1.0</td>\n",
       "      <td>1.0</td>\n",
       "      <td>1.0</td>\n",
       "      <td>1.0</td>\n",
       "      <td>1.0</td>\n",
       "      <td>10.0</td>\n",
       "      <td>5.0</td>\n",
       "      <td>4.0</td>\n",
       "      <td>9.0</td>\n",
       "      <td>9.0</td>\n",
       "    </tr>\n",
       "    <tr>\n",
       "      <th>1</th>\n",
       "      <td>Абдуллина Маргарита Альбертовна</td>\n",
       "      <td>физ</td>\n",
       "      <td>специалист</td>\n",
       "      <td>1.0</td>\n",
       "      <td>0.0</td>\n",
       "      <td>0.0</td>\n",
       "      <td>1.0</td>\n",
       "      <td>1.0</td>\n",
       "      <td>0.0</td>\n",
       "      <td>1.0</td>\n",
       "      <td>1.0</td>\n",
       "      <td>1.0</td>\n",
       "      <td>1.0</td>\n",
       "      <td>1.0</td>\n",
       "      <td>1.0</td>\n",
       "      <td>8.0</td>\n",
       "      <td>2.0</td>\n",
       "      <td>5.0</td>\n",
       "      <td>8.0</td>\n",
       "      <td>8.0</td>\n",
       "    </tr>\n",
       "    <tr>\n",
       "      <th>2</th>\n",
       "      <td>Абеленцев Марк Артурович</td>\n",
       "      <td>физ</td>\n",
       "      <td>специалист</td>\n",
       "      <td>1.0</td>\n",
       "      <td>1.0</td>\n",
       "      <td>1.0</td>\n",
       "      <td>1.0</td>\n",
       "      <td>0.0</td>\n",
       "      <td>0.0</td>\n",
       "      <td>0.0</td>\n",
       "      <td>0.0</td>\n",
       "      <td>0.0</td>\n",
       "      <td>0.0</td>\n",
       "      <td>0.0</td>\n",
       "      <td>0.0</td>\n",
       "      <td>3.0</td>\n",
       "      <td>3.0</td>\n",
       "      <td>0.0</td>\n",
       "      <td>3.0</td>\n",
       "      <td>2.0</td>\n",
       "    </tr>\n",
       "    <tr>\n",
       "      <th>3</th>\n",
       "      <td>Андреевский Никита Эрнестович</td>\n",
       "      <td>хим</td>\n",
       "      <td>специалист</td>\n",
       "      <td>2.0</td>\n",
       "      <td>1.0</td>\n",
       "      <td>1.0</td>\n",
       "      <td>0.0</td>\n",
       "      <td>1.0</td>\n",
       "      <td>1.0</td>\n",
       "      <td>1.0</td>\n",
       "      <td>0.0</td>\n",
       "      <td>0.0</td>\n",
       "      <td>0.0</td>\n",
       "      <td>0.0</td>\n",
       "      <td>0.0</td>\n",
       "      <td>5.0</td>\n",
       "      <td>4.0</td>\n",
       "      <td>1.0</td>\n",
       "      <td>4.0</td>\n",
       "      <td>4.0</td>\n",
       "    </tr>\n",
       "    <tr>\n",
       "      <th>4</th>\n",
       "      <td>Анисимов Николай Петрович</td>\n",
       "      <td>физ</td>\n",
       "      <td>магистр</td>\n",
       "      <td>1.0</td>\n",
       "      <td>1.0</td>\n",
       "      <td>0.0</td>\n",
       "      <td>0.0</td>\n",
       "      <td>1.0</td>\n",
       "      <td>1.0</td>\n",
       "      <td>0.0</td>\n",
       "      <td>1.0</td>\n",
       "      <td>1.0</td>\n",
       "      <td>1.0</td>\n",
       "      <td>0.0</td>\n",
       "      <td>0.0</td>\n",
       "      <td>6.0</td>\n",
       "      <td>3.0</td>\n",
       "      <td>3.0</td>\n",
       "      <td>5.0</td>\n",
       "      <td>5.0</td>\n",
       "    </tr>\n",
       "    <tr>\n",
       "      <th>...</th>\n",
       "      <td>...</td>\n",
       "      <td>...</td>\n",
       "      <td>...</td>\n",
       "      <td>...</td>\n",
       "      <td>...</td>\n",
       "      <td>...</td>\n",
       "      <td>...</td>\n",
       "      <td>...</td>\n",
       "      <td>...</td>\n",
       "      <td>...</td>\n",
       "      <td>...</td>\n",
       "      <td>...</td>\n",
       "      <td>...</td>\n",
       "      <td>...</td>\n",
       "      <td>...</td>\n",
       "      <td>...</td>\n",
       "      <td>...</td>\n",
       "      <td>...</td>\n",
       "      <td>...</td>\n",
       "      <td>...</td>\n",
       "    </tr>\n",
       "    <tr>\n",
       "      <th>202</th>\n",
       "      <td>Шляхова Анастасия Сергеевна</td>\n",
       "      <td>психол</td>\n",
       "      <td>специалист</td>\n",
       "      <td>4.0</td>\n",
       "      <td>1.0</td>\n",
       "      <td>1.0</td>\n",
       "      <td>0.0</td>\n",
       "      <td>1.0</td>\n",
       "      <td>1.0</td>\n",
       "      <td>1.0</td>\n",
       "      <td>0.0</td>\n",
       "      <td>0.0</td>\n",
       "      <td>1.0</td>\n",
       "      <td>0.0</td>\n",
       "      <td>0.0</td>\n",
       "      <td>6.0</td>\n",
       "      <td>4.0</td>\n",
       "      <td>2.0</td>\n",
       "      <td>5.0</td>\n",
       "      <td>5.0</td>\n",
       "    </tr>\n",
       "    <tr>\n",
       "      <th>203</th>\n",
       "      <td>Шупта Андрей Юрьевич</td>\n",
       "      <td>хим</td>\n",
       "      <td>специалист</td>\n",
       "      <td>2.0</td>\n",
       "      <td>1.0</td>\n",
       "      <td>0.0</td>\n",
       "      <td>0.0</td>\n",
       "      <td>0.0</td>\n",
       "      <td>0.0</td>\n",
       "      <td>0.0</td>\n",
       "      <td>0.0</td>\n",
       "      <td>0.0</td>\n",
       "      <td>0.0</td>\n",
       "      <td>0.0</td>\n",
       "      <td>0.0</td>\n",
       "      <td>1.0</td>\n",
       "      <td>1.0</td>\n",
       "      <td>0.0</td>\n",
       "      <td>1.0</td>\n",
       "      <td>0.0</td>\n",
       "    </tr>\n",
       "    <tr>\n",
       "      <th>204</th>\n",
       "      <td>Щелокова Елизавета Игоревна</td>\n",
       "      <td>экон</td>\n",
       "      <td>бакалавр</td>\n",
       "      <td>2.0</td>\n",
       "      <td>1.0</td>\n",
       "      <td>1.0</td>\n",
       "      <td>1.0</td>\n",
       "      <td>1.0</td>\n",
       "      <td>1.0</td>\n",
       "      <td>1.0</td>\n",
       "      <td>1.0</td>\n",
       "      <td>1.0</td>\n",
       "      <td>1.0</td>\n",
       "      <td>1.0</td>\n",
       "      <td>0.0</td>\n",
       "      <td>10.0</td>\n",
       "      <td>5.0</td>\n",
       "      <td>5.0</td>\n",
       "      <td>9.0</td>\n",
       "      <td>9.0</td>\n",
       "    </tr>\n",
       "    <tr>\n",
       "      <th>205</th>\n",
       "      <td>Юзбашян Айша Артуровна</td>\n",
       "      <td>экон</td>\n",
       "      <td>бакалавр</td>\n",
       "      <td>3.0</td>\n",
       "      <td>0.0</td>\n",
       "      <td>1.0</td>\n",
       "      <td>1.0</td>\n",
       "      <td>1.0</td>\n",
       "      <td>1.0</td>\n",
       "      <td>1.0</td>\n",
       "      <td>1.0</td>\n",
       "      <td>0.0</td>\n",
       "      <td>0.0</td>\n",
       "      <td>0.0</td>\n",
       "      <td>0.0</td>\n",
       "      <td>6.0</td>\n",
       "      <td>4.0</td>\n",
       "      <td>2.0</td>\n",
       "      <td>5.0</td>\n",
       "      <td>6.0</td>\n",
       "    </tr>\n",
       "    <tr>\n",
       "      <th>206</th>\n",
       "      <td>Юй Цзыин</td>\n",
       "      <td>вшп</td>\n",
       "      <td>магистр</td>\n",
       "      <td>1.0</td>\n",
       "      <td>0.0</td>\n",
       "      <td>1.0</td>\n",
       "      <td>0.0</td>\n",
       "      <td>1.0</td>\n",
       "      <td>0.0</td>\n",
       "      <td>0.0</td>\n",
       "      <td>0.0</td>\n",
       "      <td>0.0</td>\n",
       "      <td>0.0</td>\n",
       "      <td>0.0</td>\n",
       "      <td>0.0</td>\n",
       "      <td>2.0</td>\n",
       "      <td>2.0</td>\n",
       "      <td>0.0</td>\n",
       "      <td>2.0</td>\n",
       "      <td>2.0</td>\n",
       "    </tr>\n",
       "  </tbody>\n",
       "</table>\n",
       "<p>207 rows × 20 columns</p>\n",
       "</div>"
      ],
      "text/plain": [
       "                                 ФИО Факультет          ВП  Курс    1    2  \\\n",
       "0         Абдул Гани Надим Ахмадович      вмик     магистр   1.0  1.0  1.0   \n",
       "1    Абдуллина Маргарита Альбертовна       физ  специалист   1.0  0.0  0.0   \n",
       "2           Абеленцев Марк Артурович       физ  специалист   1.0  1.0  1.0   \n",
       "3      Андреевский Никита Эрнестович       хим  специалист   2.0  1.0  1.0   \n",
       "4          Анисимов Николай Петрович       физ     магистр   1.0  1.0  0.0   \n",
       "..                               ...       ...         ...   ...  ...  ...   \n",
       "202      Шляхова Анастасия Сергеевна    психол  специалист   4.0  1.0  1.0   \n",
       "203             Шупта Андрей Юрьевич       хим  специалист   2.0  1.0  0.0   \n",
       "204      Щелокова Елизавета Игоревна      экон    бакалавр   2.0  1.0  1.0   \n",
       "205           Юзбашян Айша Артуровна      экон    бакалавр   3.0  0.0  1.0   \n",
       "206                         Юй Цзыин       вшп     магистр   1.0  0.0  1.0   \n",
       "\n",
       "       3    4    5    6    7    8    9   10   11  Посещения   П1   П2   П5  \\\n",
       "0    1.0  1.0  1.0  0.0  1.0  1.0  1.0  1.0  1.0       10.0  5.0  4.0  9.0   \n",
       "1    1.0  1.0  0.0  1.0  1.0  1.0  1.0  1.0  1.0        8.0  2.0  5.0  8.0   \n",
       "2    1.0  0.0  0.0  0.0  0.0  0.0  0.0  0.0  0.0        3.0  3.0  0.0  3.0   \n",
       "3    0.0  1.0  1.0  1.0  0.0  0.0  0.0  0.0  0.0        5.0  4.0  1.0  4.0   \n",
       "4    0.0  1.0  1.0  0.0  1.0  1.0  1.0  0.0  0.0        6.0  3.0  3.0  5.0   \n",
       "..   ...  ...  ...  ...  ...  ...  ...  ...  ...        ...  ...  ...  ...   \n",
       "202  0.0  1.0  1.0  1.0  0.0  0.0  1.0  0.0  0.0        6.0  4.0  2.0  5.0   \n",
       "203  0.0  0.0  0.0  0.0  0.0  0.0  0.0  0.0  0.0        1.0  1.0  0.0  1.0   \n",
       "204  1.0  1.0  1.0  1.0  1.0  1.0  1.0  1.0  0.0       10.0  5.0  5.0  9.0   \n",
       "205  1.0  1.0  1.0  1.0  1.0  0.0  0.0  0.0  0.0        6.0  4.0  2.0  5.0   \n",
       "206  0.0  1.0  0.0  0.0  0.0  0.0  0.0  0.0  0.0        2.0  2.0  0.0  2.0   \n",
       "\n",
       "     П10  \n",
       "0    9.0  \n",
       "1    8.0  \n",
       "2    2.0  \n",
       "3    4.0  \n",
       "4    5.0  \n",
       "..   ...  \n",
       "202  5.0  \n",
       "203  0.0  \n",
       "204  9.0  \n",
       "205  6.0  \n",
       "206  2.0  \n",
       "\n",
       "[207 rows x 20 columns]"
      ]
     },
     "execution_count": 2,
     "metadata": {},
     "output_type": "execute_result"
    }
   ],
   "source": [
    "data = pd.read_csv(\"data5.csv\")\n",
    "data = data.drop(range(299,324))\n",
    "for i in range(299):\n",
    "    data.at[i,'Unnamed: 16'] = float(data.at[i,'Unnamed: 16'])\n",
    "data = data.loc[data['Unnamed: 16'] > 0]\n",
    "data = data.drop(0)\n",
    "data = data.reset_index()\n",
    "data = data.drop(['Unnamed: 17','index','Рекомендация Никиты','Unnamed: 16','Зачёт','Unnamed: 21'],axis=1)\n",
    "data = data.drop(data.columns[4],axis=1)\n",
    "data = data.drop(data.columns[15],axis=1)\n",
    "data = data.rename(columns={'Unnamed: 1':'Факультет',\n",
    " '22.02.':'1',\n",
    " '01.03.':'2',\n",
    " '15.03.':'3',\n",
    " '22.03.':'4',\n",
    " '29.03.':'5',\n",
    " '05.04.':'6',\n",
    " '12.04.':'7',\n",
    " '19.04.':'8','26.04.':'9','03.05.':'10','10.05.':'11'})\n",
    "data.insert(15,\"Посещения\", 0.0)\n",
    "for i in range(207):\n",
    "    if data.at[i,'3'] == '1': \n",
    "        data.at[i,'3'] = 1.0\n",
    "    if data.at[i,'3'] != 1: \n",
    "        data.at[i,'3'] = 0.0\n",
    "    if data.at[i,'1'] != 1: \n",
    "        data.at[i,'1'] = 0.0\n",
    "    if data.at[i,'2'] != 1.0:\n",
    "        data.at[i,'2'] = 0\n",
    "    if data.at[i,'4'] == '1':\n",
    "        data.at[i,'4'] = 1.0\n",
    "    if data.at[i,'4'] != 1:\n",
    "        data.at[i,'4'] = 0.0\n",
    "    if data.at[i,'5'] != 1.0:\n",
    "        data.at[i,'5'] = 0\n",
    "    if data.at[i,'6'] != 1.0:\n",
    "        data.at[i,'6'] = 0\n",
    "    if data.at[i,'7'] != 1.0:\n",
    "        data.at[i,'7'] = 0\n",
    "    if data.at[i,'8'] == '1':\n",
    "        data.at[i,'8'] = 1.0\n",
    "    if data.at[i,'8'] != 1.0:\n",
    "        data.at[i,'8'] = 0\n",
    "    if data.at[i,'9'] != 1.0:\n",
    "        data.at[i,'9'] = 0\n",
    "    if data.at[i,'10'] != 1.0:\n",
    "        data.at[i,'10'] = 0\n",
    "    if data.at[i,'11'] == '1':\n",
    "        data.at[i,'11'] = 1.0\n",
    "    if data.at[i,'11'] != 1.0:\n",
    "        data.at[i,'11'] = 0.0\n",
    "    data.at[i, 'Посещения'] = data.at[i, '1'] + data.at[i, '2'] + data.at[i, '3'] + data.at[i, '4'] + data.at[i, '5'] + data.at[i, '6'] + data.at[i, '7'] + data.at[i, '8'] + data.at[i, '9'] + data.at[i, '10'] + data.at[i, '11']\n",
    "\n",
    "data.insert(16, \"П1\", 0.0)\n",
    "data.insert(17, \"П2\", 0.0)\n",
    "data.insert(18, \"П5\", 0.0)\n",
    "data.insert(19, \"П10\", 0.0)\n",
    "\n",
    "for i in range(207):\n",
    "    data.at[i,'П10'] = data.at[i,'Посещения'] - data.at[i,'1']\n",
    "    v = 0\n",
    "    for j in range(1,6):\n",
    "        v += data.at[i,str(j)]\n",
    "    data.at[i,'П1'] = v\n",
    "    v = 0\n",
    "    for j in range(6,11):\n",
    "        v += data.at[i,str(j)]\n",
    "    data.at[i,'П2'] = v\n",
    "    data.at[i,'П5'] = data.at[i,'Посещения'] - data.at[i,'5']\n",
    "#    data.at[i,'П7'] = data.at[i,'Посещения'] - data.at[i,'1']\n",
    "#    data.at[i,'П5'] = data.at[i,'Посещения'] - data.at[i,'5']\n",
    "\n",
    "\n",
    "data\n"
   ]
  },
  {
   "cell_type": "code",
   "execution_count": 3,
   "id": "89852079",
   "metadata": {},
   "outputs": [
    {
     "data": {
      "text/html": [
       "<div>\n",
       "<style scoped>\n",
       "    .dataframe tbody tr th:only-of-type {\n",
       "        vertical-align: middle;\n",
       "    }\n",
       "\n",
       "    .dataframe tbody tr th {\n",
       "        vertical-align: top;\n",
       "    }\n",
       "\n",
       "    .dataframe thead th {\n",
       "        text-align: right;\n",
       "    }\n",
       "</style>\n",
       "<table border=\"1\" class=\"dataframe\">\n",
       "  <thead>\n",
       "    <tr style=\"text-align: right;\">\n",
       "      <th></th>\n",
       "      <th>ФИО</th>\n",
       "      <th>Факультет</th>\n",
       "      <th>ВП</th>\n",
       "      <th>Курс</th>\n",
       "      <th>1</th>\n",
       "      <th>2</th>\n",
       "      <th>3</th>\n",
       "      <th>4</th>\n",
       "      <th>5</th>\n",
       "      <th>6</th>\n",
       "      <th>7</th>\n",
       "      <th>8</th>\n",
       "      <th>9</th>\n",
       "      <th>10</th>\n",
       "      <th>11</th>\n",
       "      <th>Посещения</th>\n",
       "      <th>П1</th>\n",
       "      <th>П2</th>\n",
       "      <th>П5</th>\n",
       "      <th>П10</th>\n",
       "    </tr>\n",
       "  </thead>\n",
       "  <tbody>\n",
       "    <tr>\n",
       "      <th>0</th>\n",
       "      <td>Абдул Гани Надим Ахмадович</td>\n",
       "      <td>вмик</td>\n",
       "      <td>магистр</td>\n",
       "      <td>1.0</td>\n",
       "      <td>1.0</td>\n",
       "      <td>1.0</td>\n",
       "      <td>1.0</td>\n",
       "      <td>1.0</td>\n",
       "      <td>1.0</td>\n",
       "      <td>0.0</td>\n",
       "      <td>1.0</td>\n",
       "      <td>1.0</td>\n",
       "      <td>1.0</td>\n",
       "      <td>1.0</td>\n",
       "      <td>1.0</td>\n",
       "      <td>10.0</td>\n",
       "      <td>5.0</td>\n",
       "      <td>4.0</td>\n",
       "      <td>9.0</td>\n",
       "      <td>9.0</td>\n",
       "    </tr>\n",
       "    <tr>\n",
       "      <th>1</th>\n",
       "      <td>Абдуллина Маргарита Альбертовна</td>\n",
       "      <td>физ</td>\n",
       "      <td>специалист</td>\n",
       "      <td>1.0</td>\n",
       "      <td>0.0</td>\n",
       "      <td>0.0</td>\n",
       "      <td>1.0</td>\n",
       "      <td>1.0</td>\n",
       "      <td>0.0</td>\n",
       "      <td>1.0</td>\n",
       "      <td>1.0</td>\n",
       "      <td>1.0</td>\n",
       "      <td>1.0</td>\n",
       "      <td>1.0</td>\n",
       "      <td>1.0</td>\n",
       "      <td>8.0</td>\n",
       "      <td>2.0</td>\n",
       "      <td>5.0</td>\n",
       "      <td>8.0</td>\n",
       "      <td>8.0</td>\n",
       "    </tr>\n",
       "    <tr>\n",
       "      <th>2</th>\n",
       "      <td>Анисимов Николай Петрович</td>\n",
       "      <td>физ</td>\n",
       "      <td>магистр</td>\n",
       "      <td>1.0</td>\n",
       "      <td>1.0</td>\n",
       "      <td>0.0</td>\n",
       "      <td>0.0</td>\n",
       "      <td>1.0</td>\n",
       "      <td>1.0</td>\n",
       "      <td>0.0</td>\n",
       "      <td>1.0</td>\n",
       "      <td>1.0</td>\n",
       "      <td>1.0</td>\n",
       "      <td>0.0</td>\n",
       "      <td>0.0</td>\n",
       "      <td>6.0</td>\n",
       "      <td>3.0</td>\n",
       "      <td>3.0</td>\n",
       "      <td>5.0</td>\n",
       "      <td>5.0</td>\n",
       "    </tr>\n",
       "    <tr>\n",
       "      <th>3</th>\n",
       "      <td>Анучина Анжелика Геннадьевна</td>\n",
       "      <td>фмп</td>\n",
       "      <td>бакалавр</td>\n",
       "      <td>3.0</td>\n",
       "      <td>1.0</td>\n",
       "      <td>1.0</td>\n",
       "      <td>0.0</td>\n",
       "      <td>1.0</td>\n",
       "      <td>0.0</td>\n",
       "      <td>0.0</td>\n",
       "      <td>1.0</td>\n",
       "      <td>1.0</td>\n",
       "      <td>1.0</td>\n",
       "      <td>0.0</td>\n",
       "      <td>0.0</td>\n",
       "      <td>6.0</td>\n",
       "      <td>3.0</td>\n",
       "      <td>3.0</td>\n",
       "      <td>6.0</td>\n",
       "      <td>5.0</td>\n",
       "    </tr>\n",
       "    <tr>\n",
       "      <th>4</th>\n",
       "      <td>Артюшкова Анастасия Романовна</td>\n",
       "      <td>ффм</td>\n",
       "      <td>специалист</td>\n",
       "      <td>2.0</td>\n",
       "      <td>1.0</td>\n",
       "      <td>1.0</td>\n",
       "      <td>1.0</td>\n",
       "      <td>1.0</td>\n",
       "      <td>1.0</td>\n",
       "      <td>1.0</td>\n",
       "      <td>1.0</td>\n",
       "      <td>0.0</td>\n",
       "      <td>0.0</td>\n",
       "      <td>0.0</td>\n",
       "      <td>1.0</td>\n",
       "      <td>8.0</td>\n",
       "      <td>5.0</td>\n",
       "      <td>2.0</td>\n",
       "      <td>7.0</td>\n",
       "      <td>7.0</td>\n",
       "    </tr>\n",
       "    <tr>\n",
       "      <th>...</th>\n",
       "      <td>...</td>\n",
       "      <td>...</td>\n",
       "      <td>...</td>\n",
       "      <td>...</td>\n",
       "      <td>...</td>\n",
       "      <td>...</td>\n",
       "      <td>...</td>\n",
       "      <td>...</td>\n",
       "      <td>...</td>\n",
       "      <td>...</td>\n",
       "      <td>...</td>\n",
       "      <td>...</td>\n",
       "      <td>...</td>\n",
       "      <td>...</td>\n",
       "      <td>...</td>\n",
       "      <td>...</td>\n",
       "      <td>...</td>\n",
       "      <td>...</td>\n",
       "      <td>...</td>\n",
       "      <td>...</td>\n",
       "    </tr>\n",
       "    <tr>\n",
       "      <th>135</th>\n",
       "      <td>Чушкина Карина Александровна</td>\n",
       "      <td>био</td>\n",
       "      <td>бакалавр</td>\n",
       "      <td>1.0</td>\n",
       "      <td>1.0</td>\n",
       "      <td>1.0</td>\n",
       "      <td>1.0</td>\n",
       "      <td>0.0</td>\n",
       "      <td>1.0</td>\n",
       "      <td>1.0</td>\n",
       "      <td>0.0</td>\n",
       "      <td>1.0</td>\n",
       "      <td>1.0</td>\n",
       "      <td>0.0</td>\n",
       "      <td>0.0</td>\n",
       "      <td>7.0</td>\n",
       "      <td>4.0</td>\n",
       "      <td>3.0</td>\n",
       "      <td>6.0</td>\n",
       "      <td>6.0</td>\n",
       "    </tr>\n",
       "    <tr>\n",
       "      <th>136</th>\n",
       "      <td>Шелухин Роман Вадимович</td>\n",
       "      <td>геол</td>\n",
       "      <td>бакалавр</td>\n",
       "      <td>3.0</td>\n",
       "      <td>1.0</td>\n",
       "      <td>1.0</td>\n",
       "      <td>1.0</td>\n",
       "      <td>1.0</td>\n",
       "      <td>1.0</td>\n",
       "      <td>0.0</td>\n",
       "      <td>1.0</td>\n",
       "      <td>1.0</td>\n",
       "      <td>0.0</td>\n",
       "      <td>0.0</td>\n",
       "      <td>0.0</td>\n",
       "      <td>7.0</td>\n",
       "      <td>5.0</td>\n",
       "      <td>2.0</td>\n",
       "      <td>6.0</td>\n",
       "      <td>6.0</td>\n",
       "    </tr>\n",
       "    <tr>\n",
       "      <th>137</th>\n",
       "      <td>Шляхова Анастасия Сергеевна</td>\n",
       "      <td>психол</td>\n",
       "      <td>специалист</td>\n",
       "      <td>4.0</td>\n",
       "      <td>1.0</td>\n",
       "      <td>1.0</td>\n",
       "      <td>0.0</td>\n",
       "      <td>1.0</td>\n",
       "      <td>1.0</td>\n",
       "      <td>1.0</td>\n",
       "      <td>0.0</td>\n",
       "      <td>0.0</td>\n",
       "      <td>1.0</td>\n",
       "      <td>0.0</td>\n",
       "      <td>0.0</td>\n",
       "      <td>6.0</td>\n",
       "      <td>4.0</td>\n",
       "      <td>2.0</td>\n",
       "      <td>5.0</td>\n",
       "      <td>5.0</td>\n",
       "    </tr>\n",
       "    <tr>\n",
       "      <th>138</th>\n",
       "      <td>Щелокова Елизавета Игоревна</td>\n",
       "      <td>экон</td>\n",
       "      <td>бакалавр</td>\n",
       "      <td>2.0</td>\n",
       "      <td>1.0</td>\n",
       "      <td>1.0</td>\n",
       "      <td>1.0</td>\n",
       "      <td>1.0</td>\n",
       "      <td>1.0</td>\n",
       "      <td>1.0</td>\n",
       "      <td>1.0</td>\n",
       "      <td>1.0</td>\n",
       "      <td>1.0</td>\n",
       "      <td>1.0</td>\n",
       "      <td>0.0</td>\n",
       "      <td>10.0</td>\n",
       "      <td>5.0</td>\n",
       "      <td>5.0</td>\n",
       "      <td>9.0</td>\n",
       "      <td>9.0</td>\n",
       "    </tr>\n",
       "    <tr>\n",
       "      <th>139</th>\n",
       "      <td>Юзбашян Айша Артуровна</td>\n",
       "      <td>экон</td>\n",
       "      <td>бакалавр</td>\n",
       "      <td>3.0</td>\n",
       "      <td>0.0</td>\n",
       "      <td>1.0</td>\n",
       "      <td>1.0</td>\n",
       "      <td>1.0</td>\n",
       "      <td>1.0</td>\n",
       "      <td>1.0</td>\n",
       "      <td>1.0</td>\n",
       "      <td>0.0</td>\n",
       "      <td>0.0</td>\n",
       "      <td>0.0</td>\n",
       "      <td>0.0</td>\n",
       "      <td>6.0</td>\n",
       "      <td>4.0</td>\n",
       "      <td>2.0</td>\n",
       "      <td>5.0</td>\n",
       "      <td>6.0</td>\n",
       "    </tr>\n",
       "  </tbody>\n",
       "</table>\n",
       "<p>140 rows × 20 columns</p>\n",
       "</div>"
      ],
      "text/plain": [
       "                                 ФИО Факультет          ВП  Курс    1    2  \\\n",
       "0         Абдул Гани Надим Ахмадович      вмик     магистр   1.0  1.0  1.0   \n",
       "1    Абдуллина Маргарита Альбертовна       физ  специалист   1.0  0.0  0.0   \n",
       "2          Анисимов Николай Петрович       физ     магистр   1.0  1.0  0.0   \n",
       "3       Анучина Анжелика Геннадьевна       фмп    бакалавр   3.0  1.0  1.0   \n",
       "4      Артюшкова Анастасия Романовна       ффм  специалист   2.0  1.0  1.0   \n",
       "..                               ...       ...         ...   ...  ...  ...   \n",
       "135     Чушкина Карина Александровна       био    бакалавр   1.0  1.0  1.0   \n",
       "136          Шелухин Роман Вадимович      геол    бакалавр   3.0  1.0  1.0   \n",
       "137      Шляхова Анастасия Сергеевна    психол  специалист   4.0  1.0  1.0   \n",
       "138      Щелокова Елизавета Игоревна      экон    бакалавр   2.0  1.0  1.0   \n",
       "139           Юзбашян Айша Артуровна      экон    бакалавр   3.0  0.0  1.0   \n",
       "\n",
       "       3    4    5    6    7    8    9   10   11  Посещения   П1   П2   П5  \\\n",
       "0    1.0  1.0  1.0  0.0  1.0  1.0  1.0  1.0  1.0       10.0  5.0  4.0  9.0   \n",
       "1    1.0  1.0  0.0  1.0  1.0  1.0  1.0  1.0  1.0        8.0  2.0  5.0  8.0   \n",
       "2    0.0  1.0  1.0  0.0  1.0  1.0  1.0  0.0  0.0        6.0  3.0  3.0  5.0   \n",
       "3    0.0  1.0  0.0  0.0  1.0  1.0  1.0  0.0  0.0        6.0  3.0  3.0  6.0   \n",
       "4    1.0  1.0  1.0  1.0  1.0  0.0  0.0  0.0  1.0        8.0  5.0  2.0  7.0   \n",
       "..   ...  ...  ...  ...  ...  ...  ...  ...  ...        ...  ...  ...  ...   \n",
       "135  1.0  0.0  1.0  1.0  0.0  1.0  1.0  0.0  0.0        7.0  4.0  3.0  6.0   \n",
       "136  1.0  1.0  1.0  0.0  1.0  1.0  0.0  0.0  0.0        7.0  5.0  2.0  6.0   \n",
       "137  0.0  1.0  1.0  1.0  0.0  0.0  1.0  0.0  0.0        6.0  4.0  2.0  5.0   \n",
       "138  1.0  1.0  1.0  1.0  1.0  1.0  1.0  1.0  0.0       10.0  5.0  5.0  9.0   \n",
       "139  1.0  1.0  1.0  1.0  1.0  0.0  0.0  0.0  0.0        6.0  4.0  2.0  5.0   \n",
       "\n",
       "     П10  \n",
       "0    9.0  \n",
       "1    8.0  \n",
       "2    5.0  \n",
       "3    5.0  \n",
       "4    7.0  \n",
       "..   ...  \n",
       "135  6.0  \n",
       "136  6.0  \n",
       "137  5.0  \n",
       "138  9.0  \n",
       "139  6.0  \n",
       "\n",
       "[140 rows x 20 columns]"
      ]
     },
     "execution_count": 3,
     "metadata": {},
     "output_type": "execute_result"
    }
   ],
   "source": [
    "dataN6 = data.loc[data['Посещения'] >=6 ]\n",
    "dataN6 = dataN6.reset_index()\n",
    "dataN6 = dataN6.drop('index',axis = 1)\n",
    "dataN6"
   ]
  },
  {
   "cell_type": "markdown",
   "id": "124a57c9",
   "metadata": {},
   "source": [
    "# Проверка независимости"
   ]
  },
  {
   "cell_type": "code",
   "execution_count": 4,
   "id": "cfb69a19",
   "metadata": {},
   "outputs": [
    {
     "data": {
      "text/html": [
       "<div>\n",
       "<style scoped>\n",
       "    .dataframe tbody tr th:only-of-type {\n",
       "        vertical-align: middle;\n",
       "    }\n",
       "\n",
       "    .dataframe tbody tr th {\n",
       "        vertical-align: top;\n",
       "    }\n",
       "\n",
       "    .dataframe thead th {\n",
       "        text-align: right;\n",
       "    }\n",
       "</style>\n",
       "<table border=\"1\" class=\"dataframe\">\n",
       "  <thead>\n",
       "    <tr style=\"text-align: right;\">\n",
       "      <th>П2</th>\n",
       "      <th>0.0</th>\n",
       "      <th>1.0</th>\n",
       "      <th>2.0</th>\n",
       "      <th>3.0</th>\n",
       "      <th>4.0</th>\n",
       "      <th>5.0</th>\n",
       "    </tr>\n",
       "    <tr>\n",
       "      <th>П1</th>\n",
       "      <th></th>\n",
       "      <th></th>\n",
       "      <th></th>\n",
       "      <th></th>\n",
       "      <th></th>\n",
       "      <th></th>\n",
       "    </tr>\n",
       "  </thead>\n",
       "  <tbody>\n",
       "    <tr>\n",
       "      <th>0.0</th>\n",
       "      <td>0</td>\n",
       "      <td>2</td>\n",
       "      <td>1</td>\n",
       "      <td>0</td>\n",
       "      <td>0</td>\n",
       "      <td>1</td>\n",
       "    </tr>\n",
       "    <tr>\n",
       "      <th>1.0</th>\n",
       "      <td>22</td>\n",
       "      <td>2</td>\n",
       "      <td>1</td>\n",
       "      <td>0</td>\n",
       "      <td>4</td>\n",
       "      <td>2</td>\n",
       "    </tr>\n",
       "    <tr>\n",
       "      <th>2.0</th>\n",
       "      <td>6</td>\n",
       "      <td>5</td>\n",
       "      <td>3</td>\n",
       "      <td>5</td>\n",
       "      <td>6</td>\n",
       "      <td>5</td>\n",
       "    </tr>\n",
       "    <tr>\n",
       "      <th>3.0</th>\n",
       "      <td>3</td>\n",
       "      <td>3</td>\n",
       "      <td>6</td>\n",
       "      <td>12</td>\n",
       "      <td>14</td>\n",
       "      <td>5</td>\n",
       "    </tr>\n",
       "    <tr>\n",
       "      <th>4.0</th>\n",
       "      <td>1</td>\n",
       "      <td>6</td>\n",
       "      <td>9</td>\n",
       "      <td>13</td>\n",
       "      <td>16</td>\n",
       "      <td>7</td>\n",
       "    </tr>\n",
       "    <tr>\n",
       "      <th>5.0</th>\n",
       "      <td>1</td>\n",
       "      <td>1</td>\n",
       "      <td>3</td>\n",
       "      <td>12</td>\n",
       "      <td>10</td>\n",
       "      <td>20</td>\n",
       "    </tr>\n",
       "  </tbody>\n",
       "</table>\n",
       "</div>"
      ],
      "text/plain": [
       "П2   0.0  1.0  2.0  3.0  4.0  5.0\n",
       "П1                               \n",
       "0.0    0    2    1    0    0    1\n",
       "1.0   22    2    1    0    4    2\n",
       "2.0    6    5    3    5    6    5\n",
       "3.0    3    3    6   12   14    5\n",
       "4.0    1    6    9   13   16    7\n",
       "5.0    1    1    3   12   10   20"
      ]
     },
     "execution_count": 4,
     "metadata": {},
     "output_type": "execute_result"
    }
   ],
   "source": [
    "crosstab = pd.crosstab(data[\"П1\"], data[\"П2\"])\n",
    "crosstab"
   ]
  },
  {
   "cell_type": "code",
   "execution_count": 5,
   "id": "cb2f0c37",
   "metadata": {
    "scrolled": true
   },
   "outputs": [
    {
     "data": {
      "text/plain": [
       "Chi2ContingencyResult(statistic=125.0791661530102, pvalue=2.788576603822302e-15, dof=25, expected_freq=array([[ 0.63768116,  0.36714976,  0.44444444,  0.8115942 ,  0.96618357,\n",
       "         0.77294686],\n",
       "       [ 4.94202899,  2.84541063,  3.44444444,  6.28985507,  7.48792271,\n",
       "         5.99033816],\n",
       "       [ 4.7826087 ,  2.75362319,  3.33333333,  6.08695652,  7.24637681,\n",
       "         5.79710145],\n",
       "       [ 6.85507246,  3.9468599 ,  4.77777778,  8.72463768, 10.38647343,\n",
       "         8.30917874],\n",
       "       [ 8.28985507,  4.77294686,  5.77777778, 10.55072464, 12.56038647,\n",
       "        10.04830918],\n",
       "       [ 7.49275362,  4.31400966,  5.22222222,  9.53623188, 11.352657  ,\n",
       "         9.0821256 ]]))"
      ]
     },
     "execution_count": 5,
     "metadata": {},
     "output_type": "execute_result"
    }
   ],
   "source": [
    "stats.chi2_contingency(crosstab)"
   ]
  },
  {
   "cell_type": "markdown",
   "id": "e53612f7",
   "metadata": {},
   "source": [
    "Они зависимы"
   ]
  },
  {
   "cell_type": "markdown",
   "id": "07a8f7f1",
   "metadata": {},
   "source": [
    "# Проверка зависимости от посещения первой пары"
   ]
  },
  {
   "cell_type": "code",
   "execution_count": 6,
   "id": "cf3f5963",
   "metadata": {},
   "outputs": [
    {
     "data": {
      "text/html": [
       "<div>\n",
       "<style scoped>\n",
       "    .dataframe tbody tr th:only-of-type {\n",
       "        vertical-align: middle;\n",
       "    }\n",
       "\n",
       "    .dataframe tbody tr th {\n",
       "        vertical-align: top;\n",
       "    }\n",
       "\n",
       "    .dataframe thead th {\n",
       "        text-align: right;\n",
       "    }\n",
       "</style>\n",
       "<table border=\"1\" class=\"dataframe\">\n",
       "  <thead>\n",
       "    <tr style=\"text-align: right;\">\n",
       "      <th>П10</th>\n",
       "      <th>0.0</th>\n",
       "      <th>1.0</th>\n",
       "      <th>2.0</th>\n",
       "      <th>3.0</th>\n",
       "      <th>4.0</th>\n",
       "      <th>5.0</th>\n",
       "      <th>6.0</th>\n",
       "      <th>7.0</th>\n",
       "      <th>8.0</th>\n",
       "      <th>9.0</th>\n",
       "      <th>10.0</th>\n",
       "    </tr>\n",
       "    <tr>\n",
       "      <th>1</th>\n",
       "      <th></th>\n",
       "      <th></th>\n",
       "      <th></th>\n",
       "      <th></th>\n",
       "      <th></th>\n",
       "      <th></th>\n",
       "      <th></th>\n",
       "      <th></th>\n",
       "      <th></th>\n",
       "      <th></th>\n",
       "      <th></th>\n",
       "    </tr>\n",
       "  </thead>\n",
       "  <tbody>\n",
       "    <tr>\n",
       "      <th>0.0</th>\n",
       "      <td>0</td>\n",
       "      <td>12</td>\n",
       "      <td>5</td>\n",
       "      <td>8</td>\n",
       "      <td>2</td>\n",
       "      <td>10</td>\n",
       "      <td>11</td>\n",
       "      <td>15</td>\n",
       "      <td>17</td>\n",
       "      <td>0</td>\n",
       "      <td>2</td>\n",
       "    </tr>\n",
       "    <tr>\n",
       "      <th>1.0</th>\n",
       "      <td>12</td>\n",
       "      <td>4</td>\n",
       "      <td>1</td>\n",
       "      <td>3</td>\n",
       "      <td>10</td>\n",
       "      <td>13</td>\n",
       "      <td>19</td>\n",
       "      <td>25</td>\n",
       "      <td>16</td>\n",
       "      <td>19</td>\n",
       "      <td>3</td>\n",
       "    </tr>\n",
       "  </tbody>\n",
       "</table>\n",
       "</div>"
      ],
      "text/plain": [
       "П10  0.0   1.0   2.0   3.0   4.0   5.0   6.0   7.0   8.0   9.0   10.0\n",
       "1                                                                    \n",
       "0.0     0    12     5     8     2    10    11    15    17     0     2\n",
       "1.0    12     4     1     3    10    13    19    25    16    19     3"
      ]
     },
     "execution_count": 6,
     "metadata": {},
     "output_type": "execute_result"
    }
   ],
   "source": [
    "crosstab1 = pd.crosstab(data[\"1\"], data[\"П10\"])\n",
    "crosstab1"
   ]
  },
  {
   "cell_type": "code",
   "execution_count": 7,
   "id": "dd3c7eb5",
   "metadata": {},
   "outputs": [
    {
     "data": {
      "text/plain": [
       "Chi2ContingencyResult(statistic=43.47114745011087, pvalue=4.095353029123369e-06, dof=10, expected_freq=array([[ 4.75362319,  6.33816425,  2.37681159,  4.35748792,  4.75362319,\n",
       "         9.11111111, 11.88405797, 15.84541063, 13.07246377,  7.52657005,\n",
       "         1.98067633],\n",
       "       [ 7.24637681,  9.66183575,  3.62318841,  6.64251208,  7.24637681,\n",
       "        13.88888889, 18.11594203, 24.15458937, 19.92753623, 11.47342995,\n",
       "         3.01932367]]))"
      ]
     },
     "execution_count": 7,
     "metadata": {},
     "output_type": "execute_result"
    }
   ],
   "source": [
    "stats.chi2_contingency(crosstab1)"
   ]
  },
  {
   "cell_type": "markdown",
   "id": "833bc8b7",
   "metadata": {},
   "source": [
    "# Проверка независимости от посещения 5 пары"
   ]
  },
  {
   "cell_type": "code",
   "execution_count": 8,
   "id": "3bd1fded",
   "metadata": {},
   "outputs": [
    {
     "data": {
      "text/html": [
       "<div>\n",
       "<style scoped>\n",
       "    .dataframe tbody tr th:only-of-type {\n",
       "        vertical-align: middle;\n",
       "    }\n",
       "\n",
       "    .dataframe tbody tr th {\n",
       "        vertical-align: top;\n",
       "    }\n",
       "\n",
       "    .dataframe thead th {\n",
       "        text-align: right;\n",
       "    }\n",
       "</style>\n",
       "<table border=\"1\" class=\"dataframe\">\n",
       "  <thead>\n",
       "    <tr style=\"text-align: right;\">\n",
       "      <th>П5</th>\n",
       "      <th>1.0</th>\n",
       "      <th>2.0</th>\n",
       "      <th>3.0</th>\n",
       "      <th>4.0</th>\n",
       "      <th>5.0</th>\n",
       "      <th>6.0</th>\n",
       "      <th>7.0</th>\n",
       "      <th>8.0</th>\n",
       "      <th>9.0</th>\n",
       "      <th>10.0</th>\n",
       "    </tr>\n",
       "    <tr>\n",
       "      <th>5</th>\n",
       "      <th></th>\n",
       "      <th></th>\n",
       "      <th></th>\n",
       "      <th></th>\n",
       "      <th></th>\n",
       "      <th></th>\n",
       "      <th></th>\n",
       "      <th></th>\n",
       "      <th></th>\n",
       "      <th></th>\n",
       "    </tr>\n",
       "  </thead>\n",
       "  <tbody>\n",
       "    <tr>\n",
       "      <th>0.0</th>\n",
       "      <td>24</td>\n",
       "      <td>8</td>\n",
       "      <td>7</td>\n",
       "      <td>3</td>\n",
       "      <td>8</td>\n",
       "      <td>11</td>\n",
       "      <td>13</td>\n",
       "      <td>11</td>\n",
       "      <td>1</td>\n",
       "      <td>0</td>\n",
       "    </tr>\n",
       "    <tr>\n",
       "      <th>1.0</th>\n",
       "      <td>1</td>\n",
       "      <td>2</td>\n",
       "      <td>2</td>\n",
       "      <td>12</td>\n",
       "      <td>13</td>\n",
       "      <td>21</td>\n",
       "      <td>31</td>\n",
       "      <td>15</td>\n",
       "      <td>21</td>\n",
       "      <td>3</td>\n",
       "    </tr>\n",
       "  </tbody>\n",
       "</table>\n",
       "</div>"
      ],
      "text/plain": [
       "П5   1.0   2.0   3.0   4.0   5.0   6.0   7.0   8.0   9.0   10.0\n",
       "5                                                              \n",
       "0.0    24     8     7     3     8    11    13    11     1     0\n",
       "1.0     1     2     2    12    13    21    31    15    21     3"
      ]
     },
     "execution_count": 8,
     "metadata": {},
     "output_type": "execute_result"
    }
   ],
   "source": [
    "crosstab2 = pd.crosstab(data[\"5\"], data[\"П5\"])\n",
    "crosstab2"
   ]
  },
  {
   "cell_type": "code",
   "execution_count": 9,
   "id": "1c693593",
   "metadata": {
    "scrolled": true
   },
   "outputs": [
    {
     "data": {
      "text/plain": [
       "Chi2ContingencyResult(statistic=62.27663070556678, pvalue=4.871152796563196e-10, dof=9, expected_freq=array([[10.38647343,  4.15458937,  3.73913043,  6.23188406,  8.72463768,\n",
       "        13.29468599, 18.28019324, 10.80193237,  9.14009662,  1.24637681],\n",
       "       [14.61352657,  5.84541063,  5.26086957,  8.76811594, 12.27536232,\n",
       "        18.70531401, 25.71980676, 15.19806763, 12.85990338,  1.75362319]]))"
      ]
     },
     "execution_count": 9,
     "metadata": {},
     "output_type": "execute_result"
    }
   ],
   "source": [
    "stats.chi2_contingency(crosstab2)"
   ]
  },
  {
   "cell_type": "markdown",
   "id": "5e0d8056",
   "metadata": {},
   "source": [
    "# Проверка независмости от посещения 5 и 6 пары"
   ]
  },
  {
   "cell_type": "code",
   "execution_count": 10,
   "id": "1213aacd",
   "metadata": {
    "scrolled": false
   },
   "outputs": [
    {
     "data": {
      "text/html": [
       "<div>\n",
       "<style scoped>\n",
       "    .dataframe tbody tr th:only-of-type {\n",
       "        vertical-align: middle;\n",
       "    }\n",
       "\n",
       "    .dataframe tbody tr th {\n",
       "        vertical-align: top;\n",
       "    }\n",
       "\n",
       "    .dataframe thead th {\n",
       "        text-align: right;\n",
       "    }\n",
       "</style>\n",
       "<table border=\"1\" class=\"dataframe\">\n",
       "  <thead>\n",
       "    <tr style=\"text-align: right;\">\n",
       "      <th>6</th>\n",
       "      <th>0.0</th>\n",
       "      <th>1.0</th>\n",
       "    </tr>\n",
       "    <tr>\n",
       "      <th>5</th>\n",
       "      <th></th>\n",
       "      <th></th>\n",
       "    </tr>\n",
       "  </thead>\n",
       "  <tbody>\n",
       "    <tr>\n",
       "      <th>0.0</th>\n",
       "      <td>54</td>\n",
       "      <td>32</td>\n",
       "    </tr>\n",
       "    <tr>\n",
       "      <th>1.0</th>\n",
       "      <td>32</td>\n",
       "      <td>89</td>\n",
       "    </tr>\n",
       "  </tbody>\n",
       "</table>\n",
       "</div>"
      ],
      "text/plain": [
       "6    0.0  1.0\n",
       "5            \n",
       "0.0   54   32\n",
       "1.0   32   89"
      ]
     },
     "execution_count": 10,
     "metadata": {},
     "output_type": "execute_result"
    }
   ],
   "source": [
    "crosstab3 = pd.crosstab(data['5'],data['6'])\n",
    "crosstab3"
   ]
  },
  {
   "cell_type": "code",
   "execution_count": 11,
   "id": "f9d617c4",
   "metadata": {},
   "outputs": [
    {
     "data": {
      "text/plain": [
       "Chi2ContingencyResult(statistic=25.8668904088288, pvalue=3.657898490268258e-07, dof=1, expected_freq=array([[35.7294686, 50.2705314],\n",
       "       [50.2705314, 70.7294686]]))"
      ]
     },
     "execution_count": 11,
     "metadata": {},
     "output_type": "execute_result"
    }
   ],
   "source": [
    "stats.chi2_contingency(crosstab3)"
   ]
  },
  {
   "cell_type": "markdown",
   "id": "dc1b158f",
   "metadata": {},
   "source": [
    "# Изучение посещаемости пар в конкретные дни"
   ]
  },
  {
   "cell_type": "code",
   "execution_count": 12,
   "id": "b51e0412",
   "metadata": {
    "scrolled": true
   },
   "outputs": [
    {
     "name": "stdout",
     "output_type": "stream",
     "text": [
      "кол-во посещений 1  пары:  125.0\n",
      "кол-во посещений 2  пары:  138.0\n",
      "кол-во посещений 3  пары:  141.0\n",
      "кол-во посещений 4  пары:  138.0\n",
      "кол-во посещений 5  пары:  121.0\n",
      "кол-во посещений 6  пары:  121.0\n",
      "кол-во посещений 7  пары:  118.0\n",
      "кол-во посещений 8  пары:  134.0\n",
      "кол-во посещений 9  пары:  120.0\n",
      "кол-во посещений 10  пары:  98.0\n",
      "кол-во посещений 11  пары:  40.0\n"
     ]
    }
   ],
   "source": [
    "for i in range (1,12):\n",
    "    print('кол-во посещений', i, ' пары: ', data[str(i)].sum())"
   ]
  },
  {
   "cell_type": "code",
   "execution_count": 13,
   "id": "5bfedbcb",
   "metadata": {},
   "outputs": [
    {
     "name": "stdout",
     "output_type": "stream",
     "text": [
      "кол-во посетивших  1  пар  24\n",
      "кол-во посетивших  2  пар  9\n",
      "кол-во посетивших  3  пар  9\n",
      "кол-во посетивших  4  пар  5\n",
      "кол-во посетивших  5  пар  20\n",
      "кол-во посетивших  6  пар  24\n",
      "кол-во посетивших  7  пар  34\n",
      "кол-во посетивших  8  пар  42\n",
      "кол-во посетивших  9  пар  16\n",
      "кол-во посетивших  10  пар  21\n",
      "кол-во посетивших  11  пар  3\n"
     ]
    }
   ],
   "source": [
    "for i in range (1,12):\n",
    "    print('кол-во посетивших ', i, ' пар ', len(data.loc[data['Посещения'] == i]))"
   ]
  },
  {
   "cell_type": "code",
   "execution_count": 14,
   "id": "50234186",
   "metadata": {},
   "outputs": [
    {
     "name": "stdout",
     "output_type": "stream",
     "text": [
      "кол-во посетивших меньше 6 паp: 67\n",
      "кол-во посетивших больше 6 паp: 116\n"
     ]
    }
   ],
   "source": [
    "sum = 0\n",
    "for i in range (1, 6):\n",
    "    sum += len(data.loc[data['Посещения'] == i])\n",
    "print('кол-во посетивших меньше 6 паp:', sum)\n",
    "sum = 0\n",
    "for i in range (6, 10):\n",
    "    sum += len(data.loc[data['Посещения'] == i])\n",
    "print('кол-во посетивших больше 6 паp:', sum)"
   ]
  },
  {
   "cell_type": "code",
   "execution_count": 15,
   "id": "e3b8cfcf",
   "metadata": {
    "scrolled": true
   },
   "outputs": [
    {
     "data": {
      "text/plain": [
       "(array([24.,  0.,  9.,  0.,  9.,  0.,  5.,  0., 20.,  0.,  0., 24.,  0.,\n",
       "        34.,  0., 42.,  0., 16.,  0., 21.,  0.,  3.]),\n",
       " array([ 1.        ,  1.45454545,  1.90909091,  2.36363636,  2.81818182,\n",
       "         3.27272727,  3.72727273,  4.18181818,  4.63636364,  5.09090909,\n",
       "         5.54545455,  6.        ,  6.45454545,  6.90909091,  7.36363636,\n",
       "         7.81818182,  8.27272727,  8.72727273,  9.18181818,  9.63636364,\n",
       "        10.09090909, 10.54545455, 11.        ]),\n",
       " <BarContainer object of 22 artists>)"
      ]
     },
     "execution_count": 15,
     "metadata": {},
     "output_type": "execute_result"
    },
    {
     "data": {
      "image/png": "[encoded data removed]",
      "text/plain": [
       "<Figure size 640x480 with 1 Axes>"
      ]
     },
     "metadata": {},
     "output_type": "display_data"
    }
   ],
   "source": [
    "plt.hist(data['Посещения'],bins=22)"
   ]
  },
  {
   "cell_type": "code",
   "execution_count": 16,
   "id": "d49b36ac",
   "metadata": {},
   "outputs": [
    {
     "name": "stdout",
     "output_type": "stream",
     "text": [
      "Количество  фмп  равно 2  Их среднее: 5.0    Их отклонение: 1.4\n",
      "Количество  фгу  равно 2  Их среднее: 8.0    Их отклонение: 1.4\n",
      "Количество  ИСАА  равно 8  Их среднее: 3.4    Их отклонение: 3.1\n",
      "Количество  био  равно 19  Их среднее: 6.3    Их отклонение: 2.6\n",
      "Количество  Полит.  равно 2  Их среднее: 6.0    Их отклонение: 1.4\n",
      "Количество  физ  равно 19  Их среднее: 6.6    Их отклонение: 2.4\n",
      "Количество  фи  равно 1  Их среднее: 8.0    Их отклонение: nan\n",
      "Количество  ин.б  равно 1  Их среднее: 1.0    Их отклонение: nan\n",
      "Количество  вмик  равно 15  Их среднее: 7.7    Их отклонение: 2.3\n",
      "Количество  ффм  равно 2  Их среднее: 6.5    Их отклонение: 2.1\n",
      "Количество  вшп  равно 8  Их среднее: 4.4    Их отклонение: 2.7\n",
      "Количество  уи  равно 1  Их среднее: 10.0    Их отклонение: nan\n",
      "Количество  психол  равно 8  Их среднее: 5.5    Их отклонение: 3.9\n",
      "Количество  экон  равно 17  Их среднее: 6.5    Их отклонение: 2.9\n",
      "Количество  вшт  равно 2  Их среднее: 5.0    Их отклонение: 0.0\n",
      "Количество  ист  равно 14  Их среднее: 6.1    Их отклонение: 2.6\n",
      "Количество  хим  равно 11  Их среднее: 5.6    Их отклонение: 2.6\n",
      "Количество  почв  равно 2  Их среднее: 5.0    Их отклонение: 4.2\n",
      "Количество  журн  равно 24  Их среднее: 5.8    Их отклонение: 2.9\n",
      "Количество  соц  равно 3  Их среднее: 7.7    Их отклонение: 1.5\n",
      "Количество  юр  равно 3  Их среднее: 5.7    Их отклонение: 3.5\n",
      "Количество  геогр  равно 3  Их среднее: 7.0    Их отклонение: 0.0\n",
      "Количество  кпу  равно 2  Их среднее: 6.0    Их отклонение: 1.4\n",
      "Количество  ин.яз  равно 3  Их среднее: 5.0    Их отклонение: 3.6\n",
      "Количество  геол  равно 5  Их среднее: 7.2    Их отклонение: 1.5\n",
      "Количество  мехм  равно 7  Их среднее: 6.1    Их отклонение: 3.5\n",
      "Количество  мшэ  равно 1  Их среднее: 6.0    Их отклонение: nan\n",
      "Количество  вшб  равно 1  Их среднее: 10.0    Их отклонение: nan\n",
      "Количество  филол  равно 15  Их среднее: 7.1    Их отклонение: 3.1\n",
      "Количество  Косм  равно 6  Их среднее: 8.3    Их отклонение: 2.1\n"
     ]
    },
    {
     "data": {
      "text/plain": [
       "7.2"
      ]
     },
     "execution_count": 16,
     "metadata": {},
     "output_type": "execute_result"
    }
   ],
   "source": [
    "fak = set(data['Факультет'])\n",
    "fak = list(fak)\n",
    "def Average(lst):\n",
    "    return sum(lst) / len(lst)\n",
    "for i in range(0,len(fak)):\n",
    "    print('Количество ',fak[i], ' равно', len(data.loc[data['Факультет'] == fak[i]]),\n",
    "          ' Их среднее:', round(data.loc[data['Факультет'] == fak[i]]['Посещения'].mean(),1), '   Их отклонение:', \n",
    "          round(data.loc[data['Факультет'] == fak[i]]['Посещения'].std(),1))\n",
    "d1 = data.loc[data['Факультет'] == 'геол']['Посещения'].mean()\n",
    "d1\n",
    "#round(Average(list(data.loc[data['Факультет'] == fak[i]]['Посещения'])),1)"
   ]
  },
  {
   "cell_type": "code",
   "execution_count": 17,
   "id": "ad32890e",
   "metadata": {},
   "outputs": [
    {
     "name": "stdout",
     "output_type": "stream",
     "text": [
      "Количеситво Бакалавров: 76\n",
      "среднее: 6.184210526315789   отклонение: 3.0841985509617222\n",
      "Количеситво Магистров: 81\n",
      "среднее: 6.419753086419753   отклонение: 2.4282925973349268\n",
      "Количеситво Специалистов: 50\n",
      "среднее: 6.08   отклонение: 2.926584691954715\n"
     ]
    }
   ],
   "source": [
    "dataSpec = data.loc[data['ВП'] == \"специалист\"]\n",
    "dataMagistr = data.loc[data['ВП'] == \"магистр\"]\n",
    "dataBakalavr = data.loc[data['ВП'] == \"бакалавр\"]\n",
    "print('Количеситво Бакалавров:', len(dataBakalavr))\n",
    "print('среднее:', dataBakalavr['Посещения'].mean(),'  отклонение:',st.stdev(dataBakalavr['Посещения'],dataBakalavr['Посещения'].mean()))\n",
    "print('Количеситво Магистров:', len(dataMagistr))\n",
    "print('среднее:', dataMagistr['Посещения'].mean(),'  отклонение:',st.stdev(dataMagistr['Посещения'],dataMagistr['Посещения'].mean()))\n",
    "print('Количеситво Специалистов:', len(dataSpec))\n",
    "print('среднее:', dataSpec['Посещения'].mean(),'  отклонение:',st.stdev(dataSpec['Посещения'],dataSpec['Посещения'].mean()))"
   ]
  },
  {
   "cell_type": "code",
   "execution_count": 38,
   "id": "0604e530",
   "metadata": {},
   "outputs": [
    {
     "data": {
      "text/plain": [
       "(array([11.,  6.,  1.,  2.,  5.,  8., 13., 11.,  8.,  9.,  2.]),\n",
       " array([ 1.        ,  1.90909091,  2.81818182,  3.72727273,  4.63636364,\n",
       "         5.54545455,  6.45454545,  7.36363636,  8.27272727,  9.18181818,\n",
       "        10.09090909, 11.        ]),\n",
       " <BarContainer object of 11 artists>)"
      ]
     },
     "execution_count": 38,
     "metadata": {},
     "output_type": "execute_result"
    },
    {
     "data": {
      "image/png": "[encoded data removed]",
      "text/plain": [
       "<Figure size 1000x1000 with 1 Axes>"
      ]
     },
     "metadata": {},
     "output_type": "display_data"
    }
   ],
   "source": [
    "plt.hist(dataBakalavr['Посещения'], bins = 11)"
   ]
  },
  {
   "cell_type": "code",
   "execution_count": 19,
   "id": "b179a180",
   "metadata": {},
   "outputs": [
    {
     "data": {
      "text/plain": [
       "6.184210526315789"
      ]
     },
     "execution_count": 19,
     "metadata": {},
     "output_type": "execute_result"
    }
   ],
   "source": [
    "dataBakalavr['Посещения'].mean()"
   ]
  },
  {
   "cell_type": "code",
   "execution_count": 20,
   "id": "4639af6f",
   "metadata": {},
   "outputs": [
    {
     "data": {
      "text/plain": [
       "9.512280701754385"
      ]
     },
     "execution_count": 20,
     "metadata": {},
     "output_type": "execute_result"
    }
   ],
   "source": [
    "dataBakalavr['Посещения'].var()"
   ]
  },
  {
   "cell_type": "code",
   "execution_count": 21,
   "id": "0864054c",
   "metadata": {},
   "outputs": [
    {
     "data": {
      "text/plain": [
       "(array([ 8.,  0.,  0.,  0.,  4.,  0.,  0.,  0.,  6.,  0.,  5.,  0.,  7.,\n",
       "         0., 12.,  0.,  2.,  0.,  5.,  1.]),\n",
       " array([ 1. ,  1.5,  2. ,  2.5,  3. ,  3.5,  4. ,  4.5,  5. ,  5.5,  6. ,\n",
       "         6.5,  7. ,  7.5,  8. ,  8.5,  9. ,  9.5, 10. , 10.5, 11. ]),\n",
       " <BarContainer object of 20 artists>)"
      ]
     },
     "execution_count": 21,
     "metadata": {},
     "output_type": "execute_result"
    },
    {
     "data": {
      "image/png": "[encoded data removed]",
      "text/plain": [
       "<Figure size 640x480 with 1 Axes>"
      ]
     },
     "metadata": {},
     "output_type": "display_data"
    }
   ],
   "source": [
    "plt.hist(dataSpec['Посещения'], bins = 20)"
   ]
  },
  {
   "cell_type": "code",
   "execution_count": 22,
   "id": "4495fc95",
   "metadata": {},
   "outputs": [
    {
     "data": {
      "text/plain": [
       "6.08"
      ]
     },
     "execution_count": 22,
     "metadata": {},
     "output_type": "execute_result"
    }
   ],
   "source": [
    "dataSpec['Посещения'].mean()"
   ]
  },
  {
   "cell_type": "code",
   "execution_count": 23,
   "id": "7037e5d2",
   "metadata": {},
   "outputs": [
    {
     "data": {
      "text/plain": [
       "8.564897959183673"
      ]
     },
     "execution_count": 23,
     "metadata": {},
     "output_type": "execute_result"
    }
   ],
   "source": [
    "dataSpec['Посещения'].var()"
   ]
  },
  {
   "cell_type": "code",
   "execution_count": 24,
   "id": "15749f90",
   "metadata": {},
   "outputs": [
    {
     "data": {
      "text/plain": [
       "(array([ 5.,  0.,  3.,  0.,  4.,  0.,  3.,  0.,  9.,  0.,  0., 11.,  0.,\n",
       "        14.,  0., 19.,  0.,  6.,  0.,  7.]),\n",
       " array([ 1.  ,  1.45,  1.9 ,  2.35,  2.8 ,  3.25,  3.7 ,  4.15,  4.6 ,\n",
       "         5.05,  5.5 ,  5.95,  6.4 ,  6.85,  7.3 ,  7.75,  8.2 ,  8.65,\n",
       "         9.1 ,  9.55, 10.  ]),\n",
       " <BarContainer object of 20 artists>)"
      ]
     },
     "execution_count": 24,
     "metadata": {},
     "output_type": "execute_result"
    },
    {
     "data": {
      "image/png": "[encoded data removed]",
      "text/plain": [
       "<Figure size 640x480 with 1 Axes>"
      ]
     },
     "metadata": {},
     "output_type": "display_data"
    }
   ],
   "source": [
    "plt.hist(dataMagistr['Посещения'], bins = 20)"
   ]
  },
  {
   "cell_type": "code",
   "execution_count": 25,
   "id": "db2a744e",
   "metadata": {},
   "outputs": [
    {
     "data": {
      "text/plain": [
       "6.419753086419753"
      ]
     },
     "execution_count": 25,
     "metadata": {},
     "output_type": "execute_result"
    }
   ],
   "source": [
    "dataMagistr['Посещения'].mean()"
   ]
  },
  {
   "cell_type": "code",
   "execution_count": 26,
   "id": "5068edc6",
   "metadata": {},
   "outputs": [
    {
     "data": {
      "text/plain": [
       "5.896604938271606"
      ]
     },
     "execution_count": 26,
     "metadata": {},
     "output_type": "execute_result"
    }
   ],
   "source": [
    "dataMagistr['Посещения'].var()"
   ]
  },
  {
   "cell_type": "code",
   "execution_count": 27,
   "id": "58840f67",
   "metadata": {},
   "outputs": [
    {
     "data": {
      "image/png": "[encoded data removed]",
      "text/plain": [
       "<Figure size 640x480 with 1 Axes>"
      ]
     },
     "metadata": {},
     "output_type": "display_data"
    }
   ],
   "source": [
    "sns.boxplot( y=data['Посещения'], x=data['ВП'] );\n",
    "plt.show()"
   ]
  },
  {
   "cell_type": "code",
   "execution_count": 29,
   "id": "83b84cb7",
   "metadata": {},
   "outputs": [
    {
     "data": {
      "image/png": "[encoded data removed]",
      "text/plain": [
       "<Figure size 3000x1000 with 1 Axes>"
      ]
     },
     "metadata": {},
     "output_type": "display_data"
    }
   ],
   "source": [
    "sns.boxplot( y=data['Посещения'], x=data['Факультет'] );\n",
    "plt.rcParams['figure.figsize'] = [30, 10]\n",
    "plt.show()"
   ]
  },
  {
   "cell_type": "markdown",
   "id": "78dd5f17",
   "metadata": {},
   "source": [
    "# Анализ людей посетивших нужное количство пар для зачёта"
   ]
  },
  {
   "cell_type": "code",
   "execution_count": 36,
   "id": "d765213f",
   "metadata": {},
   "outputs": [
    {
     "data": {
      "text/plain": [
       "(array([24.,  0.,  0.,  0.,  0.,  0., 34.,  0.,  0.,  0.,  0.,  0., 42.,\n",
       "         0.,  0.,  0.,  0.,  0., 16.,  0.,  0.,  0.,  0.,  0., 21.,  0.,\n",
       "         0.,  0.,  0.,  3.]),\n",
       " array([ 6.        ,  6.16666667,  6.33333333,  6.5       ,  6.66666667,\n",
       "         6.83333333,  7.        ,  7.16666667,  7.33333333,  7.5       ,\n",
       "         7.66666667,  7.83333333,  8.        ,  8.16666667,  8.33333333,\n",
       "         8.5       ,  8.66666667,  8.83333333,  9.        ,  9.16666667,\n",
       "         9.33333333,  9.5       ,  9.66666667,  9.83333333, 10.        ,\n",
       "        10.16666667, 10.33333333, 10.5       , 10.66666667, 10.83333333,\n",
       "        11.        ]),\n",
       " <BarContainer object of 30 artists>)"
      ]
     },
     "execution_count": 36,
     "metadata": {},
     "output_type": "execute_result"
    },
    {
     "data": {
      "image/png": "[encoded data removed]",
      "text/plain": [
       "<Figure size 1000x1000 with 1 Axes>"
      ]
     },
     "metadata": {},
     "output_type": "display_data"
    }
   ],
   "source": [
    "plt.rcParams['figure.figsize'] = [10, 10]\n",
    "plt.hist(dataN6['Посещения'],bins=30)"
   ]
  },
  {
   "cell_type": "code",
   "execution_count": 34,
   "id": "3e822fb3",
   "metadata": {},
   "outputs": [
    {
     "data": {
      "text/plain": [
       "ShapiroResult(statistic=0.9119613170623779, pvalue=1.5089484861618985e-07)"
      ]
     },
     "execution_count": 34,
     "metadata": {},
     "output_type": "execute_result"
    }
   ],
   "source": [
    "stats.shapiro(dataN6['Посещения'])"
   ]
  },
  {
   "cell_type": "code",
   "execution_count": null,
   "id": "78af1f3f",
   "metadata": {},
   "outputs": [],
   "source": []
  }
 ],
 "metadata": {
  "kernelspec": {
   "display_name": "Python 3 (ipykernel)",
   "language": "python",
   "name": "python3"
  },
  "language_info": {
   "codemirror_mode": {
    "name": "ipython",
    "version": 3
   },
   "file_extension": ".py",
   "mimetype": "text/x-python",
   "name": "python",
   "nbconvert_exporter": "python",
   "pygments_lexer": "ipython3",
   "version": "3.10.9"
  }
 },
 "nbformat": 4,
 "nbformat_minor": 5
}
